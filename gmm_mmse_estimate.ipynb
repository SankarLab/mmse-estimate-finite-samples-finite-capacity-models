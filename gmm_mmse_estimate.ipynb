{
 "cells": [
  {
   "cell_type": "code",
   "execution_count": null,
   "metadata": {},
   "outputs": [],
   "source": [
    "from mg import MixtureGaussian,XORGaussian\n",
    "import numpy as np\n",
    "import pandas as pd\n",
    "import matplotlib.pyplot as plt\n",
    "import seaborn as sns"
   ]
  },
  {
   "cell_type": "code",
   "execution_count": null,
   "metadata": {},
   "outputs": [],
   "source": [
    "mg = MixtureGaussian([3,0],[10,3],5* np.eye(2),pi_0=1/4)\n"
   ]
  },
  {
   "cell_type": "code",
   "execution_count": null,
   "metadata": {},
   "outputs": [],
   "source": [
    "data = mg.generate(1e4)\n",
    "n_grid=1000\n",
    "line = np.linspace(-12,12,n_grid)\n",
    "X,Y = np.meshgrid(line,line)\n",
    "Z=mg._prob(np.vstack([X.flatten(),Y.flatten()]).T).reshape(n_grid,n_grid)\n",
    "plt.contourf(X,Y,Z,cmap='plasma')\n",
    "plt.colorbar()\n",
    "sns.scatterplot(data=data, x=0, y=1, hue='target', style='group',palette='bright',alpha=0.3)"
   ]
  },
  {
   "cell_type": "code",
   "execution_count": null,
   "metadata": {},
   "outputs": [],
   "source": [
    "from models import LogisticRegression as gdLR\n",
    "lr = gdLR(loss='square',device=None).fit(data.drop(['target','group'],axis=1).values, data['target'].values,lr=1e-6, batch_size=512)"
   ]
  },
  {
   "cell_type": "code",
   "execution_count": null,
   "metadata": {},
   "outputs": [],
   "source": [
    "def MSE(y_pred: np.ndarray, y_true:np.ndarray) -> float:\n",
    "    return ((y_pred - y_true)**2).mean()"
   ]
  },
  {
   "cell_type": "code",
   "execution_count": null,
   "metadata": {},
   "outputs": [],
   "source": [
    "sigma_results = pd.DataFrame(columns=['mse','delta_A','sigma','seed','mmse','lambda'])\n",
    "for seed in range(10):\n",
    "    mg.rng = np.random.default_rng(seed)\n",
    "    for sigma in np.linspace(1,10, 50):\n",
    "        l=None\n",
    "        print(sigma)\n",
    "        mg.sigma = sigma* np.eye(2)\n",
    "        data = mg.generate(1e4)\n",
    "        LR = gdLR(loss='square',device='cpu').fit(data.drop(['target','group'],axis=1).values, data['target'].values,lr=1e-6,batch_size=256)\n",
    "        #w_ERM = LR.coef_\n",
    "        #b_ERM = LR.intercept_\n",
    "        #w_ERM, b_ERM = train_MMSE(data, l)\n",
    "        #lin_mse = MSE(pred(data.drop(['target','group'],axis=1),w_ERM , b_ERM), data['target'])\n",
    "        lin_mse = MSE(LR.predict_proba(data.drop(['target','group'],axis=1).values), data['target'].values)\n",
    "        test = mg.generate(1e6)\n",
    "        delta_a = np.power(LR.predict_proba(test.drop(['target','group'],axis=1).values) - mg._prob(test.drop(['target','group'],axis=1).values),2).mean()\n",
    "        sigma_results.loc[len(sigma_results)] = ( lin_mse,delta_a, sigma, seed, mg.mmse_estimate(1e6),l)"
   ]
  },
  {
   "cell_type": "code",
   "execution_count": null,
   "metadata": {},
   "outputs": [],
   "source": [
    "subset = sigma_results\n",
    "sns.lineplot(data=subset, x='sigma',y=subset['mse'] - subset['delta_A'] - np.sqrt(np.log(1/0.05)/2e4), label='MSE - $\\epsilon$')\n",
    "sns.lineplot(data=subset, x='sigma',y='mse', label='MSE')\n",
    "sns.lineplot(data=subset, x='sigma',y='delta_A', label='$\\Delta_A$')\n",
    "sns.lineplot(data=sigma_results, x='sigma',y=sigma_results['mmse'] , label='MMSE')\n",
    "plt.ylabel('MSE')\n",
    "plt.legend()"
   ]
  }
 ],
 "metadata": {
  "kernelspec": {
   "display_name": "ds",
   "language": "python",
   "name": "python3"
  },
  "language_info": {
   "codemirror_mode": {
    "name": "ipython",
    "version": 3
   },
   "file_extension": ".py",
   "mimetype": "text/x-python",
   "name": "python",
   "nbconvert_exporter": "python",
   "pygments_lexer": "ipython3",
   "version": "3.10.12"
  }
 },
 "nbformat": 4,
 "nbformat_minor": 2
}
